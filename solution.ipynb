{
 "cells": [
  {
   "cell_type": "code",
   "execution_count": 6,
   "metadata": {},
   "outputs": [],
   "source": [
    "import random\n",
    "import matplotlib.pyplot as plt\n",
    "import numpy as np\n",
    "%matplotlib inline"
   ]
  },
  {
   "cell_type": "code",
   "execution_count": 2,
   "metadata": {},
   "outputs": [],
   "source": [
    "def random_numbers(num):\n",
    "    return random.choices(range(1,num+1), k=num)"
   ]
  },
  {
   "cell_type": "code",
   "execution_count": 3,
   "metadata": {},
   "outputs": [],
   "source": [
    "def strategy(num):\n",
    "    random_num = random_numbers(num)\n",
    "    strat = list(range(1,num+1))\n",
    "    predicted_list = []\n",
    "    for i in range(len(strat)):\n",
    "        other_nums = sum(random_num) - random_num[i] + strat[i]\n",
    "        mod = other_nums % num\n",
    "        if mod == 0:\n",
    "            predicted_list.append(1)\n",
    "        else:\n",
    "            predicted_list.append(mod)\n",
    "    return random_num, predicted_list"
   ]
  },
  {
   "cell_type": "code",
   "execution_count": 4,
   "metadata": {},
   "outputs": [],
   "source": [
    "def simulation(num, loops=100):\n",
    "    count = 0\n",
    "    for i in range(loops):\n",
    "        random_num, predicted_list = strategy(num)\n",
    "        count += int(True in [i in random_num for i in predicted_list])\n",
    "    return count/loops"
   ]
  },
  {
   "cell_type": "code",
   "execution_count": 7,
   "metadata": {},
   "outputs": [
    {
     "data": {
      "image/png": "[encoded data removed]",
      "text/plain": [
       "<Figure size 720x360 with 1 Axes>"
      ]
     },
     "metadata": {},
     "output_type": "display_data"
    }
   ],
   "source": [
    "X = list(range(2,20))\n",
    "y = [simulation(i, loops=10000) for i in X]\n",
    "fig, ax = plt.subplots(figsize=(10,5))\n",
    "ax.plot(X, y)\n",
    "plt.xticks(np.arange(2, 20, step=1))\n",
    "plt.show()"
   ]
  },
  {
   "cell_type": "code",
   "execution_count": null,
   "metadata": {},
   "outputs": [],
   "source": []
  }
 ],
 "metadata": {
  "kernelspec": {
   "display_name": "Python 3",
   "language": "python",
   "name": "python3"
  },
  "language_info": {
   "codemirror_mode": {
    "name": "ipython",
    "version": 3
   },
   "file_extension": ".py",
   "mimetype": "text/x-python",
   "name": "python",
   "nbconvert_exporter": "python",
   "pygments_lexer": "ipython3",
   "version": "3.6.6"
  }
 },
 "nbformat": 4,
 "nbformat_minor": 2
}
